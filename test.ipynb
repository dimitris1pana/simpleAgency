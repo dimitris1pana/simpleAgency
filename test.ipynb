{
 "cells": [
  {
   "cell_type": "code",
   "execution_count": null,
   "id": "3ab9afc6",
   "metadata": {},
   "outputs": [],
   "source": [
    "import gradio as gr\n",
    "import requests\n",
    "from transformers import pipeline\n",
    "import os\n",
    "from dotenv import load_dotenv # to load environment variables from conventionally .env named files  \n",
    "\n",
    "# HF pipeline for instruction-following\n",
    "load_dotenv()\n",
    "\n",
    "# Optionally, set your OpenWeatherMap key or simulate\n",
    "# OPENWEATHERMAP_API_KEY -- >  https://home.openweathermap.org/api_keys\n",
    "WEATHER_API_KEY = os.environ[\"OPENWEATHERMAP_API_KEY\"]  # Or simulate\n"
   ]
  },
  {
   "cell_type": "markdown",
   "id": "a49235cd",
   "metadata": {},
   "source": [
    "OPENWEATHERMAP_API_KEY= \"YOUR_API_KEY\""
   ]
  },
  {
   "cell_type": "code",
   "execution_count": 2,
   "id": "dc187dfc",
   "metadata": {},
   "outputs": [],
   "source": [
    "# from transformers import pipeline, AutoTokenizer, AutoModelForSeq2SeqLM\n",
    "\n",
    "# # Method 1: Using pipeline directly (simpler)\n",
    "# tokenizer = AutoTokenizer.from_pretrained(\"google/flan-t5-base\")\n",
    "# model = AutoModelForSeq2SeqLM.from_pretrained(\"google/flan-t5-base\")  \n",
    "# # Example usage with pipeline\n",
    "# inputs = tokenizer(\"You are an assistant respond politely: How are you?\", return_tensors=\"pt\")\n",
    "# outputs = model.generate(**inputs)\n",
    "# decoded_output = tokenizer.decode(outputs[0], skip_special_tokens=True)\n",
    "# print(decoded_output)"
   ]
  },
  {
   "cell_type": "code",
   "execution_count": null,
   "id": "6c71d7aa",
   "metadata": {},
   "outputs": [
    {
     "name": "stderr",
     "output_type": "stream",
     "text": [
      "Device set to use mps:0\n"
     ]
    },
    {
     "name": "stdout",
     "output_type": "stream",
     "text": [
      "No, I don't know.\n"
     ]
    }
   ],
   "source": [
    "pipe = pipeline(\"text2text-generation\", model=\"google/flan-t5-base\")\n",
    "\n",
    "# Example usage with pipeline \n",
    "# this is useful for prompt engineering and model testing, before deploying into an app or a agentic ai as an orchestration layer or a tool \n",
    "input_text = \"You are an assistant, respond politely and help me with the weather.?\"\n",
    "result = pipe(input_text)\n",
    "print(result[0]['generated_text'])\n"
   ]
  },
  {
   "cell_type": "code",
   "execution_count": null,
   "id": "f5321ebb",
   "metadata": {},
   "outputs": [],
   "source": [
    "\n",
    "\n",
    "# Cell 2: Weather function\n",
    "def get_weather(city):\n",
    "    try:\n",
    "        # Add error handling for the API request \n",
    "        # GET API call to OpenWeatherMap for a weather structured report -- >\n",
    "        url = f\"http://api.openweathermap.org/data/2.5/weather?q={city}&appid={WEATHER_API_KEY}&units=metric\"\n",
    "        r = requests.get(url) # --> THE GET request to the OpenWeatherMap API\n",
    "        #############  r = requests.get(url) #############  \n",
    "        # Contains variables with useful information about the request\n",
    "        # status_codes - > 200, 404, 500, etc. to handle errors and information flow \n",
    "        # Reports -> to save in a variable as object -> in data \n",
    "        r.raise_for_status()  # Raise an exception for bad status codes\n",
    "        # IF successful, gets a JSON formatted weather report \n",
    "        # ELSE IF unsuccessful, raises an exception\n",
    "        \n",
    "        data = r.json()\n",
    "        if 'weather' not in data or 'main' not in data:\n",
    "            return f\"Error: Invalid response format for {city}\"\n",
    "            \n",
    "        desc = data['weather'][0]['description']\n",
    "        temp = data['main']['temp']\n",
    "        print(data)\n",
    "        # return f\"The weather in {city} is {desc} with a temperature of {temp}°C.\"\n",
    "        return city,desc,temp # --> The returned strings from the json object, will be used to create a user defined-structured report\n",
    "    # depending on the status code, the error message will be different and the handling will be different\n",
    "    except requests.exceptions.RequestException as e:\n",
    "        return f\"Error fetching weather: {str(e)}\"\n",
    "    except (KeyError, IndexError) as e:\n",
    "        return f\"Error parsing weather data: {str(e)}\"\n",
    "    except Exception as e:\n",
    "        return f\"Unexpected error: {str(e)}\"\n",
    "\n"
   ]
  },
  {
   "cell_type": "code",
   "execution_count": 20,
   "id": "fd83bb72",
   "metadata": {},
   "outputs": [
    {
     "name": "stdout",
     "output_type": "stream",
     "text": [
      "{'coord': {'lon': -0.1257, 'lat': 51.5085}, 'weather': [{'id': 803, 'main': 'Clouds', 'description': 'broken clouds', 'icon': '04d'}], 'base': 'stations', 'main': {'temp': 17.52, 'feels_like': 16.55, 'temp_min': 16.86, 'temp_max': 18.34, 'pressure': 1016, 'humidity': 47, 'sea_level': 1016, 'grnd_level': 1012}, 'visibility': 10000, 'wind': {'speed': 4.63, 'deg': 40}, 'clouds': {'all': 53}, 'dt': 1747849532, 'sys': {'type': 2, 'id': 268730, 'country': 'GB', 'sunrise': 1747800024, 'sunset': 1747857246}, 'timezone': 3600, 'id': 2643743, 'name': 'London', 'cod': 200}\n"
     ]
    },
    {
     "data": {
      "text/plain": [
       "('London', 'broken clouds', 17.52)"
      ]
     },
     "execution_count": 20,
     "metadata": {},
     "output_type": "execute_result"
    }
   ],
   "source": [
    "get_weather(\"London\")"
   ]
  },
  {
   "cell_type": "code",
   "execution_count": 22,
   "id": "a7afb2aa",
   "metadata": {},
   "outputs": [],
   "source": [
    "def get_suggestion(weather_desc, temp):\n",
    "    \"\"\"Helper function to generate weather-appropriate suggestions\"\"\"\n",
    "    # suggestion list, which is populated with suggestions depending on the temperature  - A rule based suggestion system <  -  >\n",
    "    suggestions = []\n",
    "    \n",
    "    # Temperature based suggestions\n",
    "    if temp >= 20:\n",
    "        suggestions.append(\"It's quite warm - don't forget sunscreen and stay hydrated!\")\n",
    "    elif temp <= 10:\n",
    "        suggestions.append(\"It's cold - remember to dress warmly!\")\n",
    "        \n",
    "    # Weather condition based suggestions -> we transform weather_desc to lower case and check for keywords\n",
    "    if any(word in weather_desc.lower() for word in ['rain', 'shower', 'drizzle', 'thunderstorm']):\n",
    "        # then we append in addition to the previous suggestion \n",
    "        suggestions.append(\"Take an umbrella with you!\")\n",
    "    elif any(word in weather_desc.lower() for word in ['clear', 'sunny', 'sun']):\n",
    "        suggestions.append(\"Don't forget your sunglasses!\")\n",
    "    elif 'cloud' in weather_desc.lower():\n",
    "        suggestions.append(\"It might be changeable weather - be prepared!\")\n",
    "        \n",
    "        # returns a string with the suggestions not a list \n",
    "    return \" \".join(suggestions) if suggestions else \"\""
   ]
  },
  {
   "cell_type": "code",
   "execution_count": 7,
   "id": "2ebd5e10",
   "metadata": {},
   "outputs": [],
   "source": [
    "# # Agent logic — simulate reasoning and reflection\n",
    "# def agent_response(user_input):\n",
    "#     # Simplified and more direct prompt\n",
    "#     prompt = f\"\"\"Question: {user_input}\n",
    "#     If this is a weather question, respond with 'WEATHER' followed by the city name.\n",
    "#     If not, respond naturally to the question.\"\"\"\n",
    "    \n",
    "#     result = qa_pipeline(prompt)[0][\"generated_text\"].strip()\n",
    "    \n",
    "#     if \"weather\" in user_input.lower():\n",
    "#         try:\n",
    "#             # Improved city extraction\n",
    "#             city = user_input.lower().split(\"weather in\")[1].strip().rstrip('?').capitalize()\n",
    "#             city,desc,temp = get_weather(city)\n",
    "\n",
    "#             return f\"The weather in {city} is {desc} with a temperature of {temp}°C \\n {get_suggestion(desc, temp)}\"\n",
    "#         except Exception as e:\n",
    "#             return f\"I couldn't get the weather information for that location. Error: {str(e)}\"\n",
    "#     else:\n",
    "#         return result"
   ]
  },
  {
   "cell_type": "code",
   "execution_count": 23,
   "id": "7895499d",
   "metadata": {},
   "outputs": [
    {
     "name": "stderr",
     "output_type": "stream",
     "text": [
      "Device set to use mps:0\n"
     ]
    }
   ],
   "source": [
    "qa_pipeline = pipeline(\"text2text-generation\", model=\"google/flan-t5-base\")\n"
   ]
  },
  {
   "cell_type": "code",
   "execution_count": null,
   "id": "d7d74ee9",
   "metadata": {},
   "outputs": [],
   "source": [
    "\n",
    "\n",
    "def agent_response(user_input):\n",
    "    # main function to handle user input \n",
    "\n",
    "    # Direct weather detection via simple pattern\n",
    "    # if in the user_input, which we decapitalize and split, we find the string \"weather in\" then \n",
    "    if \"weather in\" in user_input.lower():\n",
    "        try:\n",
    "            # naive city name extraction\n",
    "\n",
    "            # Basic city name extraction\n",
    "            #1. user_input.lower() - Converts the input text to lowercase\n",
    "            #2. split(\"weather in\")[1] - Splits the text at \"weather in\" and takes everything after it\n",
    "            #3. strip() - Removes leading and trailing whitespace\n",
    "            #4. rstrip('?') - Removes question mark from the end if present\n",
    "            #5. capitalize() - Capitalizes the first letter of the city name -- > this is necessary convention for the API weather call \n",
    "            city = user_input.lower().split(\"weather in\")[1].strip().rstrip('?').capitalize()\n",
    "            print(city)\n",
    "            city, desc, temp = get_weather(city)\n",
    "                # when we get the variables from the get_weather function, we construct a string with the weather information and also append the suggestion string\n",
    "            return f\"The weather in {city} is {desc} with a temperature of {temp}°C.\\n\\n{get_suggestion(desc, temp)}\"\n",
    "        except Exception as e:\n",
    "            # if we get an error then we return a string with the error message e which is the excepetion message received from the get_weather function\n",
    "            return f\"I couldn't get the weather information for that location. Error: {str(e)}\"\n",
    "    \n",
    "    # Fall back to model if user input isn't explicit -- ie weather in does not exist in the user_input\n",
    "    # this worked in our tests  -\n",
    "    # input_text = \"You are an assistant, respond politely and help me with the weather.?\"\n",
    "    #\n",
    "    prompt = (\n",
    "        f\"You are an assistant, respond politely and help me with the weather. {user_input}\"\n",
    "    )\n",
    "\n",
    "    result = qa_pipeline(prompt)\n",
    "    # result = qa_pipeline(prompt)[0][\"generated_text\"]\n",
    "    print(result[0]['generated_text'])\n",
    "    if \"WEATHER\" in result[0]['generated_text'].upper():\n",
    "        try:\n",
    "            # city = result[0]['generated_text'].split(\":\")[1].strip().capitalize()\n",
    "            # city, desc, temp = get_weather(city)\n",
    "            city = user_input.lower().split(\"weather\")[1].strip().rstrip('?').capitalize()\n",
    "            city, desc, temp = get_weather(city)\n",
    "\n",
    "            return f\"{result[0]['generated_text']}.\\n\\n The weather in {city} is {desc} with a temperature of {temp}°C.\\n\\n{get_suggestion(desc, temp)}\"\n",
    "        except Exception as e:\n",
    "            return f\"I couldn't get the weather information for that location. Error: {str(e)}\"\n",
    "    else:\n",
    "        return result[0]['generated_text']    \n",
    "    \n",
    "    "
   ]
  },
  {
   "cell_type": "code",
   "execution_count": 27,
   "id": "b4365c60",
   "metadata": {},
   "outputs": [
    {
     "name": "stdout",
     "output_type": "stream",
     "text": [
      "a teacher\n"
     ]
    },
    {
     "data": {
      "text/plain": [
       "'a teacher'"
      ]
     },
     "execution_count": 27,
     "metadata": {},
     "output_type": "execute_result"
    }
   ],
   "source": [
    "agent_response(\"what are you\")  # Example call to test the agent response"
   ]
  }
 ],
 "metadata": {
  "kernelspec": {
   "display_name": "nlpunipi",
   "language": "python",
   "name": "python3"
  },
  "language_info": {
   "codemirror_mode": {
    "name": "ipython",
    "version": 3
   },
   "file_extension": ".py",
   "mimetype": "text/x-python",
   "name": "python",
   "nbconvert_exporter": "python",
   "pygments_lexer": "ipython3",
   "version": "3.10.16"
  }
 },
 "nbformat": 4,
 "nbformat_minor": 5
}
