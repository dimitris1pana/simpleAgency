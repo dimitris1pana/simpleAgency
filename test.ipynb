{
 "cells": [
  {
   "cell_type": "code",
   "execution_count": 43,
   "id": "3ab9afc6",
   "metadata": {},
   "outputs": [
    {
     "name": "stdout",
     "output_type": "stream",
     "text": [
      "Weather API Key: ad3a8beebfa81a2aff36f793b8789676\n"
     ]
    }
   ],
   "source": [
    "import gradio as gr\n",
    "import requests\n",
    "from transformers import pipeline\n",
    "import os\n",
    "from dotenv import load_dotenv\n",
    "\n",
    "# HF pipeline for instruction-following\n",
    "load_dotenv()\n",
    "\n",
    "# Optionally, set your OpenWeatherMap key or simulate\n",
    "WEATHER_API_KEY = os.environ[\"OPENWEATHERMAP_API_KEY\"]  # Or simulate\n",
    "print(\"Weather API Key:\", WEATHER_API_KEY)  \n"
   ]
  },
  {
   "cell_type": "code",
   "execution_count": 44,
   "id": "dc187dfc",
   "metadata": {},
   "outputs": [],
   "source": [
    "# from transformers import pipeline, AutoTokenizer, AutoModelForSeq2SeqLM\n",
    "\n",
    "# # Method 1: Using pipeline directly (simpler)\n",
    "# tokenizer = AutoTokenizer.from_pretrained(\"google/flan-t5-base\")\n",
    "# model = AutoModelForSeq2SeqLM.from_pretrained(\"google/flan-t5-base\")  \n",
    "# # Example usage with pipeline\n",
    "# inputs = tokenizer(\"You are an assistant respond politely: How are you?\", return_tensors=\"pt\")\n",
    "# outputs = model.generate(**inputs)\n",
    "# decoded_output = tokenizer.decode(outputs[0], skip_special_tokens=True)\n",
    "# print(decoded_output)"
   ]
  },
  {
   "cell_type": "code",
   "execution_count": 45,
   "id": "6c71d7aa",
   "metadata": {},
   "outputs": [
    {
     "name": "stderr",
     "output_type": "stream",
     "text": [
      "Device set to use mps:0\n"
     ]
    },
    {
     "name": "stdout",
     "output_type": "stream",
     "text": [
      "I can help you with the weather.\n"
     ]
    }
   ],
   "source": [
    "pipe = pipeline(\"text2text-generation\", model=\"google/flan-t5-base\")\n",
    "\n",
    "# Example usage with pipeline\n",
    "input_text = \"You are an assistant, respond politely and help me with the weather. what can you do ?\"\n",
    "result = pipe(input_text)\n",
    "print(result[0]['generated_text'])\n"
   ]
  },
  {
   "cell_type": "code",
   "execution_count": 46,
   "id": "f5321ebb",
   "metadata": {},
   "outputs": [],
   "source": [
    "\n",
    "\n",
    "# Cell 2: Weather function\n",
    "def get_weather(city):\n",
    "    try:\n",
    "        # Add error handling for the API request\n",
    "        url = f\"http://api.openweathermap.org/data/2.5/weather?q={city}&appid={WEATHER_API_KEY}&units=metric\"\n",
    "        r = requests.get(url)\n",
    "        r.raise_for_status()  # Raise an exception for bad status codes\n",
    "        \n",
    "        data = r.json()\n",
    "        if 'weather' not in data or 'main' not in data:\n",
    "            return f\"Error: Invalid response format for {city}\"\n",
    "            \n",
    "        desc = data['weather'][0]['description']\n",
    "        temp = data['main']['temp']\n",
    "    \n",
    "        # return f\"The weather in {city} is {desc} with a temperature of {temp}°C.\"\n",
    "        return city,desc,temp\n",
    "    except requests.exceptions.RequestException as e:\n",
    "        return f\"Error fetching weather: {str(e)}\"\n",
    "    except (KeyError, IndexError) as e:\n",
    "        return f\"Error parsing weather data: {str(e)}\"\n",
    "    except Exception as e:\n",
    "        return f\"Unexpected error: {str(e)}\"\n",
    "\n"
   ]
  },
  {
   "cell_type": "code",
   "execution_count": 47,
   "id": "fd83bb72",
   "metadata": {},
   "outputs": [
    {
     "data": {
      "text/plain": [
       "('London', 'broken clouds', 12.64)"
      ]
     },
     "execution_count": 47,
     "metadata": {},
     "output_type": "execute_result"
    }
   ],
   "source": [
    "get_weather(\"London\")"
   ]
  },
  {
   "cell_type": "code",
   "execution_count": 48,
   "id": "a7afb2aa",
   "metadata": {},
   "outputs": [],
   "source": [
    "def get_suggestion(weather_desc, temp):\n",
    "    \"\"\"Helper function to generate weather-appropriate suggestions\"\"\"\n",
    "    suggestions = []\n",
    "    \n",
    "    # Temperature based suggestions\n",
    "    if temp >= 20:\n",
    "        suggestions.append(\"It's quite warm - don't forget sunscreen and stay hydrated!\")\n",
    "    elif temp <= 10:\n",
    "        suggestions.append(\"It's cold - remember to dress warmly!\")\n",
    "        \n",
    "    # Weather condition based suggestions\n",
    "    if any(word in weather_desc.lower() for word in ['rain', 'shower', 'drizzle', 'thunderstorm']):\n",
    "        suggestions.append(\"Take an umbrella with you!\")\n",
    "    elif any(word in weather_desc.lower() for word in ['clear', 'sunny', 'sun']):\n",
    "        suggestions.append(\"Don't forget your sunglasses!\")\n",
    "    elif 'cloud' in weather_desc.lower():\n",
    "        suggestions.append(\"It might be changeable weather - be prepared!\")\n",
    "        \n",
    "    return \" \".join(suggestions) if suggestions else \"\""
   ]
  },
  {
   "cell_type": "code",
   "execution_count": 49,
   "id": "2ebd5e10",
   "metadata": {},
   "outputs": [],
   "source": [
    "# # Agent logic — simulate reasoning and reflection\n",
    "# def agent_response(user_input):\n",
    "#     # Simplified and more direct prompt\n",
    "#     prompt = f\"\"\"Question: {user_input}\n",
    "#     If this is a weather question, respond with 'WEATHER' followed by the city name.\n",
    "#     If not, respond naturally to the question.\"\"\"\n",
    "    \n",
    "#     result = qa_pipeline(prompt)[0][\"generated_text\"].strip()\n",
    "    \n",
    "#     if \"weather\" in user_input.lower():\n",
    "#         try:\n",
    "#             # Improved city extraction\n",
    "#             city = user_input.lower().split(\"weather in\")[1].strip().rstrip('?').capitalize()\n",
    "#             city,desc,temp = get_weather(city)\n",
    "\n",
    "#             return f\"The weather in {city} is {desc} with a temperature of {temp}°C \\n {get_suggestion(desc, temp)}\"\n",
    "#         except Exception as e:\n",
    "#             return f\"I couldn't get the weather information for that location. Error: {str(e)}\"\n",
    "#     else:\n",
    "#         return result"
   ]
  },
  {
   "cell_type": "code",
   "execution_count": 50,
   "id": "7895499d",
   "metadata": {},
   "outputs": [
    {
     "name": "stderr",
     "output_type": "stream",
     "text": [
      "Device set to use mps:0\n"
     ]
    }
   ],
   "source": [
    "qa_pipeline = pipeline(\"text2text-generation\", model=\"google/flan-t5-base\")\n"
   ]
  },
  {
   "cell_type": "code",
   "execution_count": null,
   "id": "d7d74ee9",
   "metadata": {},
   "outputs": [],
   "source": [
    "\n",
    "\n",
    "def agent_response(user_input):\n",
    "    # Direct weather detection via simple pattern\n",
    "    if \"weather in\" in user_input.lower():\n",
    "        try:\n",
    "            # Basic city name extraction\n",
    "            #1. user_input.lower() - Converts the input text to lowercase\n",
    "            #2. split(\"weather in\")[1] - Splits the text at \"weather in\" and takes everything after it\n",
    "            #3. strip() - Removes leading and trailing whitespace\n",
    "            #4. rstrip('?') - Removes question mark from the end if present\n",
    "            #5. capitalize() - Capitalizes the first letter of the city name\n",
    "            city = user_input.lower().split(\"weather in\")[1].strip().rstrip('?').capitalize()\n",
    "            city, desc, temp = get_weather(city)\n",
    "\n",
    "            return f\"The weather in {city} is {desc} with a temperature of {temp}°C.\\n\\n{get_suggestion(desc, temp)}\"\n",
    "        except Exception as e:\n",
    "            return f\"I couldn't get the weather information for that location. Error: {str(e)}\"\n",
    "    \n",
    "    # Fall back to model if user input isn't explicit\n",
    "    \n",
    "    prompt = (\n",
    "        f\"You are an assistant, respond politely and help me with the weather{user_input}\"\n",
    "    )\n",
    "\n",
    "    result = qa_pipeline(prompt)\n",
    "    # result = qa_pipeline(prompt)[0][\"generated_text\"]\n",
    "    print(result[0]['generated_text'])\n",
    "    if \"WEATHER\" in result[0]['generated_text'].upper():\n",
    "        try:\n",
    "            # city = result[0]['generated_text'].split(\":\")[1].strip().capitalize()\n",
    "            # city, desc, temp = get_weather(city)\n",
    "            city = user_input.lower().split(\"weather\")[1].strip().rstrip('?').capitalize()\n",
    "            city, desc, temp = get_weather(city)\n",
    "\n",
    "            return f\"{result[0]['generated_text']}.\\n\\n The weather in {city} is {desc} with a temperature of {temp}°C.\\n\\n{get_suggestion(desc, temp)}\"\n",
    "        except Exception as e:\n",
    "            return f\"I couldn't get the weather information for that location. Error: {str(e)}\"\n",
    "    else:\n",
    "        return result[0]['generated_text']    \n",
    "    \n",
    "    "
   ]
  },
  {
   "cell_type": "code",
   "execution_count": 77,
   "id": "b4365c60",
   "metadata": {},
   "outputs": [
    {
     "name": "stdout",
     "output_type": "stream",
     "text": [
      "weather forecast\n"
     ]
    },
    {
     "data": {
      "text/plain": [
       "\"weather forecast.\\n\\n The weather in Athens is clear sky with a temperature of 25.21°C.\\n\\nIt's quite warm - don't forget sunscreen and stay hydrated! Don't forget your sunglasses!\""
      ]
     },
     "execution_count": 77,
     "metadata": {},
     "output_type": "execute_result"
    }
   ],
   "source": [
    "agent_response(\"what weather Athens\")  # Example call to test the agent response"
   ]
  }
 ],
 "metadata": {
  "kernelspec": {
   "display_name": "nlpunipi",
   "language": "python",
   "name": "python3"
  },
  "language_info": {
   "codemirror_mode": {
    "name": "ipython",
    "version": 3
   },
   "file_extension": ".py",
   "mimetype": "text/x-python",
   "name": "python",
   "nbconvert_exporter": "python",
   "pygments_lexer": "ipython3",
   "version": "3.10.16"
  }
 },
 "nbformat": 4,
 "nbformat_minor": 5
}
